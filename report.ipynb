{
 "cells": [
  {
   "cell_type": "code",
   "execution_count": 2,
   "metadata": {},
   "outputs": [],
   "source": [
    "import numpy as np\n",
    "import matplotlib.pyplot as plt\n",
    "import re\n",
    "%matplotlib inline"
   ]
  },
  {
   "cell_type": "markdown",
   "metadata": {},
   "source": [
    "\n",
    "# Sheet 1\n",
    "\n",
    "xtp778 - Jens Egholm Pedersen"
   ]
  },
  {
   "cell_type": "markdown",
   "metadata": {},
   "source": [
    "## 1.1"
   ]
  },
  {
   "cell_type": "code",
   "execution_count": 6,
   "metadata": {},
   "outputs": [
    {
     "name": "stdout",
     "output_type": "stream",
     "text": [
      "73i32\r\n"
     ]
    }
   ],
   "source": [
    "!echo \"[23,45,-23,44,23,54,23,12,34,54,7,2, 4,67] [-2, 3, 4,57,34, 2, 5,56,56, 3,3,5,77,89]\" | ./assignment1"
   ]
  },
  {
   "cell_type": "markdown",
   "metadata": {},
   "source": [
    "## 1.2"
   ]
  },
  {
   "cell_type": "code",
   "execution_count": 5,
   "metadata": {},
   "outputs": [],
   "source": [
    "!for s in 100 1000 10000 100000 1000000 5000000 10000000; do futhark-dataset -g \"[$s]i32\" -g \"[$s]i32\" > \"$s.dat\"; done"
   ]
  },
  {
   "cell_type": "code",
   "execution_count": 45,
   "metadata": {},
   "outputs": [],
   "source": [
    "out = !for s in 100 1000 10000 100000 1000000 5000000 10000000; do echo $s && ./assignment1 -t /dev/stderr > /dev/null < \"$s.dat\"; done"
   ]
  },
  {
   "cell_type": "code",
   "execution_count": 4,
   "metadata": {},
   "outputs": [],
   "source": [
    "def parse_output(out):\n",
    "    sizes = []\n",
    "    times = []\n",
    "    for index in range(0, len(out), 3):\n",
    "        sizes.append(out[index])\n",
    "        times.append(out[index + 2])\n",
    "    return (sizes, times)"
   ]
  },
  {
   "cell_type": "code",
   "execution_count": 57,
   "metadata": {},
   "outputs": [
    {
     "data": {
      "text/plain": [
       "<matplotlib.collections.PathCollection at 0x7f7cc3aad3c8>"
      ]
     },
     "execution_count": 57,
     "metadata": {},
     "output_type": "execute_result"
    },
    {
     "data": {
      "image/png": "[encoded data removed]",
      "text/plain": [
       "<matplotlib.figure.Figure at 0x7f7cc31b4860>"
      ]
     },
     "metadata": {},
     "output_type": "display_data"
    }
   ],
   "source": [
    "sizes, times = parse_output(out)\n",
    "plt.scatter(x = sizes, y = times)"
   ]
  },
  {
   "cell_type": "markdown",
   "metadata": {},
   "source": [
    "This code was run an an Asus X550V laptop, with a GeForce GTX 950M graphics card and an i7-6700HQ 2.60GHz Intel CPU"
   ]
  },
  {
   "cell_type": "markdown",
   "metadata": {},
   "source": [
    "## 1.3"
   ]
  },
  {
   "cell_type": "code",
   "execution_count": 52,
   "metadata": {},
   "outputs": [
    {
     "name": "stdout",
     "output_type": "stream",
     "text": [
      "./assignment1.3: /usr/local/cuda-8.0/targets/x86_64-linux/lib/libOpenCL.so.1: no version information available (required by ./assignment1.3)\r\n",
      "73i32\r\n",
      "12i32\r\n"
     ]
    }
   ],
   "source": [
    "!echo \"[23,45,-23,44,23,54,23,12,34,54,7,2, 4,67] [-2, 3, 4,57,34, 2, 5,56,56, 3,3,5,77,89]\" | ./assignment1.3"
   ]
  },
  {
   "cell_type": "markdown",
   "metadata": {},
   "source": [
    "The result shows that the largest difference between any two points (at the same index) is 73, and that the number is located at index 12."
   ]
  },
  {
   "cell_type": "code",
   "execution_count": 61,
   "metadata": {},
   "outputs": [],
   "source": [
    "out_1_3 = !for s in 100 1000 10000 100000 1000000 5000000 10000000; do echo $s && ./assignment1.3 -t /dev/stderr > /dev/null < \"$s.dat\"; done"
   ]
  },
  {
   "cell_type": "code",
   "execution_count": 62,
   "metadata": {},
   "outputs": [
    {
     "data": {
      "text/plain": [
       "<matplotlib.collections.PathCollection at 0x7f7cc3967f60>"
      ]
     },
     "execution_count": 62,
     "metadata": {},
     "output_type": "execute_result"
    },
    {
     "data": {
      "image/png": "[encoded data removed]",
      "text/plain": [
       "<matplotlib.figure.Figure at 0x7f7cc31e2128>"
      ]
     },
     "metadata": {},
     "output_type": "display_data"
    }
   ],
   "source": [
    "sizes, times = parse_output(out_1_3)\n",
    "plt.scatter(x = sizes, y = times)"
   ]
  },
  {
   "cell_type": "markdown",
   "metadata": {},
   "source": [
    "The above figure shows that this scales linearly like the previous example (without the index), since the points follow the same straight line. If the points would curve in any direction the correlation would no longer be linear. It takes a bit longer compared to `1.2` because of the extra indexing however."
   ]
  },
  {
   "cell_type": "markdown",
   "metadata": {},
   "source": [
    "## 1.4"
   ]
  },
  {
   "cell_type": "markdown",
   "metadata": {},
   "source": [
    "$$(v_1, f_1) \\oplus' (v_2, f_2) = (if \\: f_2 \\: then \\: v_2 \\:else \\: v_1 \\oplus v_2, f_1 \\vee f_2)$$ "
   ]
  },
  {
   "cell_type": "markdown",
   "metadata": {},
   "source": [
    "If $(0, False)$ is left neutral, then the following should apply:\n",
    "\n",
    "$$(0, False) \\oplus' (v_2, f_2)$$"
   ]
  },
  {
   "cell_type": "markdown",
   "metadata": {},
   "source": [
    "$$= (if \\: f_2 \\: then \\: v_2 \\: else \\: 0 \\oplus v_2, False \\vee f_2)$$"
   ]
  },
  {
   "cell_type": "markdown",
   "metadata": {},
   "source": [
    "$$= (v_2, f_2)$$"
   ]
  },
  {
   "cell_type": "markdown",
   "metadata": {},
   "source": [
    "We can then conclude that $(0, False)$ is indeed left neutral."
   ]
  },
  {
   "cell_type": "markdown",
   "metadata": {},
   "source": [
    "## 2.1"
   ]
  },
  {
   "cell_type": "code",
   "execution_count": 15,
   "metadata": {},
   "outputs": [
    {
     "name": "stdout",
     "output_type": "stream",
     "text": [
      "0000100000000000000000000000000000000000000000000000000000000000000000\r\n",
      "0000011000000000000000000000000000000000000000000000000000000000000000\r\n",
      "0000000110000000000000000000100000000000000000000000000000000000000000\r\n",
      "0000000001110000000000000001110000000000000000000000000000000000000000\r\n",
      "0000000000001100000000000001000000000000000000000000000000000000000000\r\n",
      "0000000000000011100000000011000000000000000000000000000000000000000000\r\n",
      "0000000000000000011000001101000000000000000000000000000000000000000000\r\n",
      "0000010000000000000110010001000000000000000000000000000000000000000000\r\n",
      "0000010000000000000001110001000000000000000000000000000000000000000000\r\n",
      "0000010000000000000011001101000000000000000000000000000000000000000000\r\n",
      "0000010000000000000100000011100000000000000000000000000000000000000000\r\n",
      "0000010000000000001000000001011000000000000000000000000000000000000000\r\n",
      "0000010000000000110000000001000110000000000000000000000000000000000000\r\n",
      "0000010000000001000000000001000001110000000000000000000000000000000000\r\n",
      "0000010000000010000000000010000000001100000000000000000000000000000000\r\n",
      "0000010000001100000000000010000000000011100000000000000000000000000000\r\n",
      "0000011111111000000000000010000000000000011000000000000000000000000000\r\n",
      "0000010000100111111100000010000000000000000110000000000000000000000000\r\n",
      "0000010011000000000010000010000000000000000001110000000000000000000000\r\n",
      "0000010100000000000000000010000000000000000000001100000000000000000000\r\n",
      "0000011000000000000000000010000000000000000000000011100000000000000000\r\n",
      "0000110000000000000000000010000000000000000000000000011000000000000000\r\n",
      "0001001000000000000000000010000000000000000000000000000111000000000000\r\n",
      "0010000000000000000000000010000000000000000000000000000000000000000000\r\n",
      "0100000000000000000000000010000000000000000000000000000000000000000000\r\n",
      "0000000000000000000000000000000000000000000000000000000000000000000000\r\n",
      "0000000000000000000000000000000000000000000000000000000000000000000000\r\n",
      "0000000000000000000000000000000000000000000000000000000000000000000000\r\n",
      "0000000000000000000000000000000000000000000000000000000000000000000000\r\n",
      "0000000000000000000000000000000000000000000000000000000000000000000000\r\n"
     ]
    }
   ],
   "source": [
    "! echo \"0.1\" | ./assignment2.3 | ./viz.sh"
   ]
  },
  {
   "cell_type": "code",
   "execution_count": 16,
   "metadata": {},
   "outputs": [
    {
     "name": "stdout",
     "output_type": "stream",
     "text": [
      "0000000001000000000100000000000010000000000000000000000000000000000000\r\n",
      "0000000001000000000011000000000111000000000000000000000000000000000000\r\n",
      "0000000001000000000000100000011100000000000000000000000000000000000000\r\n",
      "0000000010000000000000010011101000000000000000000000000000000000000000\r\n",
      "0000000010000000000000001100001000000000000000000000000000000000000000\r\n",
      "0000000010000000000000110100010000000000000000000000000000000000000000\r\n",
      "0000000100000000000111000011010000000000000000000000000000000000000000\r\n",
      "0000000100000000011000000000100000000000000000000000000000000000000000\r\n",
      "0000001110000001100000000000110000000000000000000000000000000000000000\r\n",
      "0000000101101110000000000001001000000000000000000000000000000000000000\r\n",
      "0000001000111000000000000001000110000000000000000000000000000000000000\r\n",
      "0000001011000111000000000001000001000000000000000000000000000000000000\r\n",
      "0000011100000000110000000010000000100000000000000000000000000000000000\r\n",
      "0001110000000000001100000010000000010000000000000000000000000000000000\r\n",
      "0110000000000000000010000100000000001000000000000000000000000000000000\r\n",
      "1000000000000000000000000100000000000110000000000000000000000000000000\r\n",
      "0000000000000000000000001000000000000001000000000000000000000000000000\r\n",
      "0000000000000000000000001000000000000000100000000000000000000000000000\r\n",
      "0000000000000000000000010000000000000000010000000000000000000000000000\r\n",
      "0000000000000000000000010000000000000000001100000000000000000000000000\r\n",
      "0000000000000000000000010000000000000000000010000000000000000000000000\r\n",
      "0000000000000000000000000000000000000000000001000000000000000000000000\r\n",
      "0000000000000000000000000000000000000000000000100000000000000000000000\r\n",
      "0000000000000000000000000000000000000000000000010000000000000000000000\r\n",
      "0000000000000000000000000000000000000000000000001100000000000000000000\r\n",
      "0000000000000000000000000000000000000000000000000010000000000000000000\r\n",
      "0000000000000000000000000000000000000000000000000001000000000000000000\r\n",
      "0000000000000000000000000000000000000000000000000000100000000000000000\r\n",
      "0000000000000000000000000000000000000000000000000000011000000000000000\r\n",
      "0000000000000000000000000000000000000000000000000000000000000000000000\r\n"
     ]
    }
   ],
   "source": [
    "! echo \"0.4\" | ./assignment2.3 | ./viz.sh"
   ]
  },
  {
   "cell_type": "code",
   "execution_count": 17,
   "metadata": {},
   "outputs": [
    {
     "name": "stdout",
     "output_type": "stream",
     "text": [
      "0000000000100100000000000000001000000010000000000000000000000000000000\r\n",
      "0001111111111111111111111111111111111110000000000000000000000000000000\r\n",
      "0000000010000001000000000000000100001000000000000000000000000000000000\r\n",
      "0000000000000000100000000000000010010000000000000000000000000000000000\r\n",
      "0000000000000000010000000000000010100000000000000000000000000000000000\r\n",
      "0000000000000000001000000000000001000000000000000000000000000000000000\r\n",
      "0000000000000000000100000000000011000000000000000000000000000000000000\r\n",
      "0000000000000000000010000000000100100000000000000000000000000000000000\r\n",
      "0000000000000000000001000000001000100000000000000000000000000000000000\r\n",
      "0000000000000000000000000000010000010000000000000000000000000000000000\r\n",
      "0000000000000000000000000000100000010000000000000000000000000000000000\r\n",
      "0000000000000000000000000001000000001000000000000000000000000000000000\r\n",
      "0000000000000000000000000010000000001000000000000000000000000000000000\r\n",
      "0000000000000000000000000100000000000100000000000000000000000000000000\r\n",
      "0000000000000000000000001000000000000100000000000000000000000000000000\r\n",
      "0000000000000000000000110000000000000010000000000000000000000000000000\r\n",
      "0000000000000000000000000000000000000010000000000000000000000000000000\r\n",
      "0000000000000000000000000000000000000001000000000000000000000000000000\r\n",
      "0000000000000000000000000000000000000001000000000000000000000000000000\r\n",
      "0000000000000000000000000000000000000000100000000000000000000000000000\r\n",
      "0000000000000000000000000000000000000000100000000000000000000000000000\r\n",
      "0000000000000000000000000000000000000000010000000000000000000000000000\r\n",
      "0000000000000000000000000000000000000000010000000000000000000000000000\r\n",
      "0000000000000000000000000000000000000000001000000000000000000000000000\r\n",
      "0000000000000000000000000000000000000000001000000000000000000000000000\r\n",
      "0000000000000000000000000000000000000000000100000000000000000000000000\r\n",
      "0000000000000000000000000000000000000000000100000000000000000000000000\r\n",
      "0000000000000000000000000000000000000000000010000000000000000000000000\r\n",
      "0000000000000000000000000000000000000000000010000000000000000000000000\r\n",
      "0000000000000000000000000000000000000000000001000000000000000000000000\r\n"
     ]
    }
   ],
   "source": [
    "! echo \"0.8\" | ./assignment2.3 | ./viz.sh"
   ]
  },
  {
   "cell_type": "markdown",
   "metadata": {},
   "source": [
    "# 3.1"
   ]
  },
  {
   "cell_type": "code",
   "execution_count": 3,
   "metadata": {},
   "outputs": [],
   "source": [
    "!for s in 100 10000 1000000; do futhark-dataset --f32-bounds='0:2' -g \"[$s]f32\" -g \"[$s]f32\" > \"pi$s.dat\"; done"
   ]
  },
  {
   "cell_type": "code",
   "execution_count": 9,
   "metadata": {},
   "outputs": [],
   "source": [
    "out = !for s in 100 10000 1000000; do echo $s && ./assignment3.1 -t /dev/stderr > /dev/null < \"pi$s.dat\"; done"
   ]
  },
  {
   "cell_type": "code",
   "execution_count": 10,
   "metadata": {},
   "outputs": [
    {
     "data": {
      "text/plain": [
       "['100', '1545', '10000', '165446', '1000000', '16840817']"
      ]
     },
     "execution_count": 10,
     "metadata": {},
     "output_type": "execute_result"
    }
   ],
   "source": [
    "out"
   ]
  },
  {
   "cell_type": "code",
   "execution_count": 11,
   "metadata": {},
   "outputs": [
    {
     "data": {
      "text/plain": [
       "<matplotlib.collections.PathCollection at 0x7f79e8f09320>"
      ]
     },
     "execution_count": 11,
     "metadata": {},
     "output_type": "execute_result"
    },
    {
     "data": {
      "image/png": "[encoded data removed]",
      "text/plain": [
       "<matplotlib.figure.Figure at 0x7f79c67ca710>"
      ]
     },
     "metadata": {},
     "output_type": "display_data"
    }
   ],
   "source": [
    "sizes, times = parse_output(out)\n",
    "plt.scatter(x = sizes, y = times)"
   ]
  }
 ],
 "metadata": {
  "kernelspec": {
   "display_name": "Python 3",
   "language": "python",
   "name": "python3"
  },
  "language_info": {
   "codemirror_mode": {
    "name": "ipython",
    "version": 3
   },
   "file_extension": ".py",
   "mimetype": "text/x-python",
   "name": "python",
   "nbconvert_exporter": "python",
   "pygments_lexer": "ipython3",
   "version": "3.6.3"
  }
 },
 "nbformat": 4,
 "nbformat_minor": 2
}
